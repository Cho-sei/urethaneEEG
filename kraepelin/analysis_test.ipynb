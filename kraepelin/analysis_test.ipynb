{
 "cells": [
  {
   "cell_type": "code",
   "execution_count": 1,
   "metadata": {},
   "outputs": [],
   "source": [
    "import pandas"
   ]
  },
  {
   "cell_type": "code",
   "execution_count": 17,
   "metadata": {},
   "outputs": [
    {
     "data": {
      "text/html": [
       "<div>\n",
       "<style scoped>\n",
       "    .dataframe tbody tr th:only-of-type {\n",
       "        vertical-align: middle;\n",
       "    }\n",
       "\n",
       "    .dataframe tbody tr th {\n",
       "        vertical-align: top;\n",
       "    }\n",
       "\n",
       "    .dataframe thead th {\n",
       "        text-align: right;\n",
       "    }\n",
       "</style>\n",
       "<table border=\"1\" class=\"dataframe\">\n",
       "  <thead>\n",
       "    <tr style=\"text-align: right;\">\n",
       "      <th></th>\n",
       "      <th>Blocks</th>\n",
       "      <th>Trials</th>\n",
       "      <th>answer</th>\n",
       "      <th>RT</th>\n",
       "      <th>Cue</th>\n",
       "      <th>cor_answer</th>\n",
       "      <th>stim_left</th>\n",
       "      <th>stim_right</th>\n",
       "    </tr>\n",
       "  </thead>\n",
       "  <tbody>\n",
       "    <tr>\n",
       "      <th>0</th>\n",
       "      <td>1</td>\n",
       "      <td>1</td>\n",
       "      <td>9</td>\n",
       "      <td>3.302172</td>\n",
       "      <td>False</td>\n",
       "      <td>9</td>\n",
       "      <td>['9' '9' '' '9' '' '9' '9' '' '']</td>\n",
       "      <td>['8' '' '' '8' '' '8' '8' '' '']</td>\n",
       "    </tr>\n",
       "    <tr>\n",
       "      <th>1</th>\n",
       "      <td>1</td>\n",
       "      <td>2</td>\n",
       "      <td>9</td>\n",
       "      <td>0.714475</td>\n",
       "      <td>True</td>\n",
       "      <td>9</td>\n",
       "      <td>['8' '' '' '8' '' '8' '8' '' '']</td>\n",
       "      <td>['1' '' '' '1' '' '1' '1' '' '1']</td>\n",
       "    </tr>\n",
       "    <tr>\n",
       "      <th>2</th>\n",
       "      <td>1</td>\n",
       "      <td>3</td>\n",
       "      <td>0</td>\n",
       "      <td>3.349570</td>\n",
       "      <td>False</td>\n",
       "      <td>0</td>\n",
       "      <td>['1' '' '' '1' '' '1' '1' '' '1']</td>\n",
       "      <td>['9' '' '' '9' '' '' '9' '9' '9']</td>\n",
       "    </tr>\n",
       "    <tr>\n",
       "      <th>3</th>\n",
       "      <td>1</td>\n",
       "      <td>4</td>\n",
       "      <td>3</td>\n",
       "      <td>2.813548</td>\n",
       "      <td>True</td>\n",
       "      <td>3</td>\n",
       "      <td>['9' '' '' '9' '' '' '9' '9' '9']</td>\n",
       "      <td>['' '' '' '4' '' '' '' '' '']</td>\n",
       "    </tr>\n",
       "    <tr>\n",
       "      <th>4</th>\n",
       "      <td>1</td>\n",
       "      <td>5</td>\n",
       "      <td>9</td>\n",
       "      <td>0.899564</td>\n",
       "      <td>True</td>\n",
       "      <td>9</td>\n",
       "      <td>['' '' '' '4' '' '' '' '' '']</td>\n",
       "      <td>['5' '' '' '5' '5' '5' '' '5' '5']</td>\n",
       "    </tr>\n",
       "  </tbody>\n",
       "</table>\n",
       "</div>"
      ],
      "text/plain": [
       "   Blocks  Trials  answer        RT    Cue  cor_answer  \\\n",
       "0       1       1       9  3.302172  False           9   \n",
       "1       1       2       9  0.714475   True           9   \n",
       "2       1       3       0  3.349570  False           0   \n",
       "3       1       4       3  2.813548   True           3   \n",
       "4       1       5       9  0.899564   True           9   \n",
       "\n",
       "                           stim_left                          stim_right  \n",
       "0  ['9' '9' '' '9' '' '9' '9' '' '']    ['8' '' '' '8' '' '8' '8' '' '']  \n",
       "1   ['8' '' '' '8' '' '8' '8' '' '']   ['1' '' '' '1' '' '1' '1' '' '1']  \n",
       "2  ['1' '' '' '1' '' '1' '1' '' '1']   ['9' '' '' '9' '' '' '9' '9' '9']  \n",
       "3  ['9' '' '' '9' '' '' '9' '9' '9']       ['' '' '' '4' '' '' '' '' '']  \n",
       "4      ['' '' '' '4' '' '' '' '' '']  ['5' '' '' '5' '5' '5' '' '5' '5']  "
      ]
     },
     "execution_count": 17,
     "metadata": {},
     "output_type": "execute_result"
    }
   ],
   "source": [
    "df = pandas.read_csv('inoue_cued.csv')\n",
    "df[:5]"
   ]
  },
  {
   "cell_type": "code",
   "execution_count": 3,
   "metadata": {},
   "outputs": [
    {
     "data": {
      "text/plain": [
       "1     13\n",
       "2     14\n",
       "3     14\n",
       "4     13\n",
       "5     13\n",
       "6     13\n",
       "7     14\n",
       "8     12\n",
       "9     15\n",
       "10    13\n",
       "Name: Blocks, dtype: int64"
      ]
     },
     "execution_count": 3,
     "metadata": {},
     "output_type": "execute_result"
    }
   ],
   "source": [
    "df['Blocks'].value_counts().sort_index()"
   ]
  },
  {
   "cell_type": "code",
   "execution_count": 4,
   "metadata": {},
   "outputs": [
    {
     "name": "stdout",
     "output_type": "stream",
     "text": [
      "O\n",
      "O\n",
      "O\n",
      "O\n",
      "O\n",
      "O\n",
      "O\n",
      "O\n",
      "O\n",
      "X\n",
      "O\n",
      "O\n",
      "O\n"
     ]
    }
   ],
   "source": [
    "for idx, row in df[df['Blocks']==1].iterrows():\n",
    "    print('O' if row['answer']==row['cor_answer'] else 'X')"
   ]
  },
  {
   "cell_type": "code",
   "execution_count": 8,
   "metadata": {},
   "outputs": [
    {
     "data": {
      "text/plain": [
       "[1, 2, 3, 4, 5, 6, 7, 8, 9, 10]"
      ]
     },
     "execution_count": 8,
     "metadata": {},
     "output_type": "execute_result"
    }
   ],
   "source": [
    "sorted(set(df['Blocks'].values))"
   ]
  },
  {
   "cell_type": "code",
   "execution_count": 9,
   "metadata": {},
   "outputs": [
    {
     "name": "stdout",
     "output_type": "stream",
     "text": [
      "OOOOOOOOOXOOO\n",
      "OOOOOOOOOXOOOO\n",
      "OXOOOOOOOOOOOO\n",
      "OOOOOOOOOOOOO\n",
      "OOOOOOOOOOOXO\n",
      "OOOOOOOOXOOOO\n",
      "OOOOOOOOXOOOOO\n",
      "OOOOOOOOXXOO\n",
      "OOOOOOOOOOOOOOO\n",
      "OOOXOOOOOOOOO\n"
     ]
    }
   ],
   "source": [
    "for i in sorted(set(df['Blocks'].values)):\n",
    "    print(\"\".join(['O' if row['answer']==row['cor_answer'] else 'X' for idx,row in df[df['Blocks']==i].iterrows()]))"
   ]
  },
  {
   "cell_type": "code",
   "execution_count": 20,
   "metadata": {},
   "outputs": [
    {
     "name": "stdout",
     "output_type": "stream",
     "text": [
      "13 1 1.9640118527601875 1.8852101087546391 2.9096327808267684\n",
      "14 1 1.6537712913750673 1.4717084387890422 4.0205883749933955\n",
      "14 1 1.9217085457053795 1.8918985159712065 2.3092389322496274\n",
      "13 0 2.1117046861103552 2.1117046861103552 nan\n",
      "13 1 2.1320195068575023 2.2460075684912986 0.7641627672519462\n",
      "13 1 2.08959564533699 1.6801216594500754 7.00328347597997\n",
      "14 1 1.7787918390923292 1.7928606231096007 1.5958976468677974\n",
      "12 2 2.7051315101333557 2.4726704634251746 3.8674367436742623\n",
      "15 0 1.6092585187024269 1.6092585187024269 nan\n",
      "13 1 2.2720581839627743 2.2624265763391427 2.387637475446354\n"
     ]
    }
   ],
   "source": [
    "for block in (df[df['Blocks']==i] for i in sorted(set(df['Blocks'].values))):\n",
    "    print(\n",
    "        len(block),\n",
    "        len(block) - len(block[block['answer']==block['cor_answer']]),#num of fail\n",
    "        block['RT'].mean(),\n",
    "        block[block['answer']==block['cor_answer']]['RT'].mean(),\n",
    "        block[~(block['answer']==block['cor_answer'])]['RT'].mean(),\n",
    "    )"
   ]
  }
 ],
 "metadata": {
  "kernelspec": {
   "display_name": "Python 3",
   "language": "python",
   "name": "python3"
  },
  "language_info": {
   "codemirror_mode": {
    "name": "ipython",
    "version": 3
   },
   "file_extension": ".py",
   "mimetype": "text/x-python",
   "name": "python",
   "nbconvert_exporter": "python",
   "pygments_lexer": "ipython3",
   "version": "3.6.7"
  }
 },
 "nbformat": 4,
 "nbformat_minor": 2
}
